{
 "cells": [
  {
   "cell_type": "markdown",
   "id": "47785c33-a2b8-4aa5-b4d3-97ee8262ba25",
   "metadata": {},
   "source": [
    "# prerequisites for coursera introduction to machine learning"
   ]
  },
  {
   "cell_type": "markdown",
   "id": "6da6f98b-90d4-46e3-af64-7cc91b010878",
   "metadata": {},
   "source": [
    "## Variables and assignments\n"
   ]
  },
  {
   "cell_type": "code",
   "execution_count": 2,
   "id": "6136e48b-a84c-4f10-9567-bc8e2c9bae2c",
   "metadata": {},
   "outputs": [
    {
     "name": "stdout",
     "output_type": "stream",
     "text": [
      "9\n"
     ]
    }
   ],
   "source": [
    "x = 4\n",
    "y = 5\n",
    "z = x + y\n",
    "print(z)"
   ]
  },
  {
   "cell_type": "markdown",
   "id": "8ebf89c4-b689-4ea4-a7f4-1cf5ff7db917",
   "metadata": {},
   "source": [
    "## Python collections \n",
    "\n",
    "put multiple data item in the same object"
   ]
  },
  {
   "cell_type": "code",
   "execution_count": 7,
   "id": "bee94fa5-6886-4c0d-84f7-d2c3c42d2e7e",
   "metadata": {},
   "outputs": [
    {
     "name": "stdout",
     "output_type": "stream",
     "text": [
      "1\n",
      "last_element : d\n"
     ]
    }
   ],
   "source": [
    "my_list = ['a', 'b', 'c', 'd']\n",
    "varied_list = ['a', 1, 'b', 3.14159] # list with elements of char, integer, and float types\n",
    "nested_list = ['hello', 'governor', [1.618, 42]] # list within a list\n",
    "# get elements\n",
    "second_element = varied_list[1] # Grab second element of varied_list\n",
    "print(second_element)\n",
    "last_element = my_list[-1] # the last element of my_list\n",
    "print(f\"last_element : {last_element}\")\n",
    "last_element_2 = my_list[len(my_list)-1] # also the last element, obtained differently\n",
    "second_to_last_element = my_list[-2]\n"
   ]
  },
  {
   "cell_type": "code",
   "execution_count": 8,
   "id": "82d36632-f04f-411e-a049-e300698520fd",
   "metadata": {},
   "outputs": [
    {
     "name": "stdout",
     "output_type": "stream",
     "text": [
      "AFC_west_list: ['Chargers', 'Broncos', 'Raiders', 'Chiefs']\n",
      "NFC_south_list: ['Panthers', 'Falcons']\n",
      "NFC_east_list: ['Cowboys', 'Eagles']\n"
     ]
    }
   ],
   "source": [
    "NFL_list = [\"Chargers\", \"Broncos\", \"Raiders\", \"Chiefs\", \"Panthers\", \"Falcons\", \"Cowboys\", \"Eagles\"]\n",
    "AFC_west_list = NFL_list[:4] \n",
    "NFC_south_list = NFL_list[4:6] \n",
    "NFC_east_list = NFL_list[6:]\n",
    "\n",
    "print(f\"AFC_west_list: {AFC_west_list}\")\n",
    "print(f\"NFC_south_list: {NFC_south_list}\")\n",
    "print(f\"NFC_east_list: {NFC_east_list}\")"
   ]
  },
  {
   "cell_type": "code",
   "execution_count": 11,
   "id": "e2dc7a47-2dc2-4949-bc57-37c80ffafc9c",
   "metadata": {},
   "outputs": [
    {
     "name": "stdout",
     "output_type": "stream",
     "text": [
      "coordinates: (1, 2)\n",
      "date1: ('May', 18, 2011)\n",
      "date2: ('June', 13, 2017)\n"
     ]
    }
   ],
   "source": [
    "# tuples\n",
    "\n",
    "x = 1\n",
    "y = 2\n",
    "coordinates = (x, y)\n",
    "print(f\"coordinates: {coordinates}\")\n",
    "\n",
    "year1 = 2011\n",
    "month1 = \"May\"\n",
    "day1 = 18\n",
    "date1 = (month1, day1, year1)\n",
    "print(f\"date1: {date1}\")\n",
    "\n",
    "year2 = 2017\n",
    "month2 = \"June\"\n",
    "day2 = 13\n",
    "date2 = (month2, day2, year2)\n",
    "print(f\"date2: {date2}\")"
   ]
  },
  {
   "cell_type": "code",
   "execution_count": 14,
   "id": "81fc4ce1-ed9e-4a5a-875c-805bfdf8f956",
   "metadata": {},
   "outputs": [
    {
     "name": "stdout",
     "output_type": "stream",
     "text": [
      "Mary Shelley\n"
     ]
    }
   ],
   "source": [
    "# Dictionaries\n",
    "book_dictionary = {\"Title\": \"Frankenstein\", \"Author\": \"Mary Shelley\", \"Year\": 1818}\n",
    "print(book_dictionary[\"Author\"])"
   ]
  },
  {
   "cell_type": "markdown",
   "id": "d7b083a1-3006-4ed9-8e82-7e0647081eee",
   "metadata": {
    "collapsed": true,
    "jupyter": {
     "outputs_hidden": true
    }
   },
   "source": [
    "# Control flow"
   ]
  },
  {
   "cell_type": "code",
   "execution_count": 18,
   "id": "03532f4d-db87-47ec-986d-79947e418a69",
   "metadata": {},
   "outputs": [
    {
     "name": "stdout",
     "output_type": "stream",
     "text": [
      "45\n",
      "True\n",
      "ingredients list\n",
      "flour\n",
      "sugar\n",
      "eggs\n",
      "oil\n",
      "baking soda\n"
     ]
    }
   ],
   "source": [
    "# for loops\n",
    "\n",
    "sum = 0\n",
    "for i in range(10):\n",
    "    sum = sum + i\n",
    "print(sum)\n",
    "alternative_sum = 0+1+2+3+4+5+6+7+8+9\n",
    "print(alternative_sum==sum)\n",
    "#\n",
    "print(\"ingredients list\")\n",
    "ingredients = [\"flour\", \"sugar\", \"eggs\", \"oil\", \"baking soda\"]\n",
    "for ingredient in ingredients:\n",
    "    print(ingredient)"
   ]
  },
  {
   "cell_type": "code",
   "execution_count": 22,
   "id": "0fa9dbfa-f42d-4cd2-baa1-4ad14fa2cbb2",
   "metadata": {},
   "outputs": [
    {
     "name": "stdout",
     "output_type": "stream",
     "text": [
      "0 is even\n",
      "1 is odd\n",
      "2 is even\n",
      "3 is odd\n",
      "4 is even\n",
      "5 is odd\n",
      "6 is even\n",
      "7 is odd\n",
      "8 is even\n",
      "9 is odd\n",
      "In the Northern Hemisphere: \n",
      "\n",
      "Month 1 is in Winter\n",
      "Month 2 is in Winter\n",
      "Month 3 is in Spring\n",
      "Month 4 is in Spring\n",
      "Month 5 is in Spring\n",
      "Month 6 is in Summer\n",
      "Month 7 is in Summer\n",
      "Month 8 is in Summer\n",
      "Month 9 is in Fall\n",
      "Month 10 is in Fall\n",
      "Month 11 is in Fall\n",
      "Month 12 is in Winter\n"
     ]
    }
   ],
   "source": [
    "# conditionals\n",
    "for i in range(10):\n",
    "    if i % 2 == 0: # % -- modulus operator\n",
    "        print(\"{} is even\".format(i))\n",
    "    else:\n",
    "        print(\"{} is odd\".format(i))\n",
    "\n",
    "# conditionals 2\n",
    "#\n",
    "# first if statement could be changed to \n",
    "#     if month < 3 or month==12:\n",
    "# to remove the else statement - last elif would become else\n",
    "\n",
    "print(\"In the Northern Hemisphere: \\n\")\n",
    "month_integer = [1, 2, 3, 4, 5, 6, 7, 8, 9, 10, 11, 12]\n",
    "for month in month_integer:\n",
    "    if month < 3: \n",
    "        print(\"Month {} is in Winter\".format(month))\n",
    "    elif month < 6:\n",
    "        print(\"Month {} is in Spring\".format(month))\n",
    "    elif month < 9:\n",
    "        print(\"Month {} is in Summer\".format(month))\n",
    "    elif month < 12:\n",
    "        print(\"Month {} is in Fall\".format(month))\n",
    "    else: \n",
    "        print(\"Month {} is in Winter\".format(month))"
   ]
  },
  {
   "cell_type": "code",
   "execution_count": 23,
   "id": "4b84d3d9-dafa-4199-947a-b9e4e2bec000",
   "metadata": {},
   "outputs": [
    {
     "name": "stdout",
     "output_type": "stream",
     "text": [
      "[3, 5, 7, 9]\n"
     ]
    }
   ],
   "source": [
    "# list comprehension\n",
    "even_list = [2, 4, 6, 8]\n",
    "odd_list = [even+1 for even in even_list]\n",
    "print(odd_list)\n"
   ]
  },
  {
   "cell_type": "markdown",
   "id": "1fb1fbd7-3151-414b-98eb-e05ccb5eded1",
   "metadata": {},
   "source": [
    "# Numpy"
   ]
  },
  {
   "cell_type": "code",
   "execution_count": 24,
   "id": "4ba03f60-d496-4c2d-a821-be91bce79f4e",
   "metadata": {},
   "outputs": [
    {
     "ename": "ModuleNotFoundError",
     "evalue": "No module named 'numpy'",
     "output_type": "error",
     "traceback": [
      "\u001b[31m---------------------------------------------------------------------------\u001b[39m",
      "\u001b[31mModuleNotFoundError\u001b[39m                       Traceback (most recent call last)",
      "\u001b[36mCell\u001b[39m\u001b[36m \u001b[39m\u001b[32mIn[24]\u001b[39m\u001b[32m, line 1\u001b[39m\n\u001b[32m----> \u001b[39m\u001b[32m1\u001b[39m \u001b[38;5;28;01mimport\u001b[39;00m\u001b[38;5;250m \u001b[39m\u001b[34;01mnumpy\u001b[39;00m\u001b[38;5;250m \u001b[39m\u001b[38;5;28;01mas\u001b[39;00m\u001b[38;5;250m \u001b[39m\u001b[34;01mnp\u001b[39;00m \n\u001b[32m      3\u001b[39m x = np.array([\u001b[32m2\u001b[39m, \u001b[32m4\u001b[39m, \u001b[32m6\u001b[39m]) \u001b[38;5;66;03m# create a rank 1 array\u001b[39;00m\n\u001b[32m      4\u001b[39m A = np.array([[\u001b[32m1\u001b[39m, \u001b[32m3\u001b[39m, \u001b[32m5\u001b[39m], [\u001b[32m2\u001b[39m, \u001b[32m4\u001b[39m, \u001b[32m6\u001b[39m]]) \u001b[38;5;66;03m# create a rank 2 array\u001b[39;00m\n",
      "\u001b[31mModuleNotFoundError\u001b[39m: No module named 'numpy'"
     ]
    }
   ],
   "source": [
    "import numpy as np \n",
    "\n",
    "x = np.array([2, 4, 6]) # create a rank 1 array\n",
    "A = np.array([[1, 3, 5], [2, 4, 6]]) # create a rank 2 array\n",
    "B = np.array([[1, 2, 3], [4, 5, 6]])\n",
    "\n",
    "print(\"Matrix A: \\n\")\n",
    "print(A)\n",
    "\n",
    "print(\"\\nMatrix B: \\n\")\n",
    "print(B)"
   ]
  },
  {
   "cell_type": "code",
   "execution_count": null,
   "id": "4bab97f9-13b8-4b1d-a535-70be7a0afc16",
   "metadata": {},
   "outputs": [],
   "source": []
  }
 ],
 "metadata": {
  "kernelspec": {
   "display_name": "Python 3 (ipykernel)",
   "language": "python",
   "name": "python3"
  },
  "language_info": {
   "codemirror_mode": {
    "name": "ipython",
    "version": 3
   },
   "file_extension": ".py",
   "mimetype": "text/x-python",
   "name": "python",
   "nbconvert_exporter": "python",
   "pygments_lexer": "ipython3",
   "version": "3.13.3"
  }
 },
 "nbformat": 4,
 "nbformat_minor": 5
}
