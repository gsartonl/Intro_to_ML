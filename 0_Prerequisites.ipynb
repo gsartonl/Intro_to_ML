{
 "cells": [
  {
   "cell_type": "markdown",
   "id": "47785c33-a2b8-4aa5-b4d3-97ee8262ba25",
   "metadata": {},
   "source": [
    "# prerequisites for coursera introduction to machine learning"
   ]
  },
  {
   "cell_type": "markdown",
   "id": "6da6f98b-90d4-46e3-af64-7cc91b010878",
   "metadata": {},
   "source": [
    "## Variables and assignments\n"
   ]
  },
  {
   "cell_type": "code",
   "execution_count": 2,
   "id": "6136e48b-a84c-4f10-9567-bc8e2c9bae2c",
   "metadata": {},
   "outputs": [
    {
     "name": "stdout",
     "output_type": "stream",
     "text": [
      "9\n"
     ]
    }
   ],
   "source": [
    "x = 4\n",
    "y = 5\n",
    "z = x + y\n",
    "print(z)"
   ]
  },
  {
   "cell_type": "markdown",
   "id": "8ebf89c4-b689-4ea4-a7f4-1cf5ff7db917",
   "metadata": {},
   "source": [
    "## Python collections \n",
    "\n",
    "put multiple data item in the same object"
   ]
  },
  {
   "cell_type": "code",
   "execution_count": 7,
   "id": "bee94fa5-6886-4c0d-84f7-d2c3c42d2e7e",
   "metadata": {},
   "outputs": [
    {
     "name": "stdout",
     "output_type": "stream",
     "text": [
      "1\n",
      "last_element : d\n"
     ]
    }
   ],
   "source": [
    "my_list = ['a', 'b', 'c', 'd']\n",
    "varied_list = ['a', 1, 'b', 3.14159] # list with elements of char, integer, and float types\n",
    "nested_list = ['hello', 'governor', [1.618, 42]] # list within a list\n",
    "# get elements\n",
    "second_element = varied_list[1] # Grab second element of varied_list\n",
    "print(second_element)\n",
    "last_element = my_list[-1] # the last element of my_list\n",
    "print(f\"last_element : {last_element}\")\n",
    "last_element_2 = my_list[len(my_list)-1] # also the last element, obtained differently\n",
    "second_to_last_element = my_list[-2]\n"
   ]
  },
  {
   "cell_type": "code",
   "execution_count": 8,
   "id": "82d36632-f04f-411e-a049-e300698520fd",
   "metadata": {},
   "outputs": [
    {
     "name": "stdout",
     "output_type": "stream",
     "text": [
      "AFC_west_list: ['Chargers', 'Broncos', 'Raiders', 'Chiefs']\n",
      "NFC_south_list: ['Panthers', 'Falcons']\n",
      "NFC_east_list: ['Cowboys', 'Eagles']\n"
     ]
    }
   ],
   "source": [
    "NFL_list = [\"Chargers\", \"Broncos\", \"Raiders\", \"Chiefs\", \"Panthers\", \"Falcons\", \"Cowboys\", \"Eagles\"]\n",
    "AFC_west_list = NFL_list[:4] \n",
    "NFC_south_list = NFL_list[4:6] \n",
    "NFC_east_list = NFL_list[6:]\n",
    "\n",
    "print(f\"AFC_west_list: {AFC_west_list}\")\n",
    "print(f\"NFC_south_list: {NFC_south_list}\")\n",
    "print(f\"NFC_east_list: {NFC_east_list}\")"
   ]
  },
  {
   "cell_type": "code",
   "execution_count": 11,
   "id": "e2dc7a47-2dc2-4949-bc57-37c80ffafc9c",
   "metadata": {},
   "outputs": [
    {
     "name": "stdout",
     "output_type": "stream",
     "text": [
      "coordinates: (1, 2)\n",
      "date1: ('May', 18, 2011)\n",
      "date2: ('June', 13, 2017)\n"
     ]
    }
   ],
   "source": [
    "# tuples\n",
    "\n",
    "x = 1\n",
    "y = 2\n",
    "coordinates = (x, y)\n",
    "print(f\"coordinates: {coordinates}\")\n",
    "\n",
    "year1 = 2011\n",
    "month1 = \"May\"\n",
    "day1 = 18\n",
    "date1 = (month1, day1, year1)\n",
    "print(f\"date1: {date1}\")\n",
    "\n",
    "year2 = 2017\n",
    "month2 = \"June\"\n",
    "day2 = 13\n",
    "date2 = (month2, day2, year2)\n",
    "print(f\"date2: {date2}\")"
   ]
  },
  {
   "cell_type": "code",
   "execution_count": 14,
   "id": "81fc4ce1-ed9e-4a5a-875c-805bfdf8f956",
   "metadata": {},
   "outputs": [
    {
     "name": "stdout",
     "output_type": "stream",
     "text": [
      "Mary Shelley\n"
     ]
    }
   ],
   "source": [
    "# Dictionaries\n",
    "book_dictionary = {\"Title\": \"Frankenstein\", \"Author\": \"Mary Shelley\", \"Year\": 1818}\n",
    "print(book_dictionary[\"Author\"])"
   ]
  },
  {
   "cell_type": "markdown",
   "id": "d7b083a1-3006-4ed9-8e82-7e0647081eee",
   "metadata": {
    "collapsed": true,
    "jupyter": {
     "outputs_hidden": true
    }
   },
   "source": [
    "# Control flow"
   ]
  },
  {
   "cell_type": "code",
   "execution_count": 18,
   "id": "03532f4d-db87-47ec-986d-79947e418a69",
   "metadata": {},
   "outputs": [
    {
     "name": "stdout",
     "output_type": "stream",
     "text": [
      "45\n",
      "True\n",
      "ingredients list\n",
      "flour\n",
      "sugar\n",
      "eggs\n",
      "oil\n",
      "baking soda\n"
     ]
    }
   ],
   "source": [
    "# for loops\n",
    "\n",
    "sum = 0\n",
    "for i in range(10):\n",
    "    sum = sum + i\n",
    "print(sum)\n",
    "alternative_sum = 0+1+2+3+4+5+6+7+8+9\n",
    "print(alternative_sum==sum)\n",
    "#\n",
    "print(\"ingredients list\")\n",
    "ingredients = [\"flour\", \"sugar\", \"eggs\", \"oil\", \"baking soda\"]\n",
    "for ingredient in ingredients:\n",
    "    print(ingredient)"
   ]
  },
  {
   "cell_type": "code",
   "execution_count": 22,
   "id": "0fa9dbfa-f42d-4cd2-baa1-4ad14fa2cbb2",
   "metadata": {},
   "outputs": [
    {
     "name": "stdout",
     "output_type": "stream",
     "text": [
      "0 is even\n",
      "1 is odd\n",
      "2 is even\n",
      "3 is odd\n",
      "4 is even\n",
      "5 is odd\n",
      "6 is even\n",
      "7 is odd\n",
      "8 is even\n",
      "9 is odd\n",
      "In the Northern Hemisphere: \n",
      "\n",
      "Month 1 is in Winter\n",
      "Month 2 is in Winter\n",
      "Month 3 is in Spring\n",
      "Month 4 is in Spring\n",
      "Month 5 is in Spring\n",
      "Month 6 is in Summer\n",
      "Month 7 is in Summer\n",
      "Month 8 is in Summer\n",
      "Month 9 is in Fall\n",
      "Month 10 is in Fall\n",
      "Month 11 is in Fall\n",
      "Month 12 is in Winter\n"
     ]
    }
   ],
   "source": [
    "# conditionals\n",
    "for i in range(10):\n",
    "    if i % 2 == 0: # % -- modulus operator\n",
    "        print(\"{} is even\".format(i))\n",
    "    else:\n",
    "        print(\"{} is odd\".format(i))\n",
    "\n",
    "# conditionals 2\n",
    "#\n",
    "# first if statement could be changed to \n",
    "#     if month < 3 or month==12:\n",
    "# to remove the else statement - last elif would become else\n",
    "\n",
    "print(\"In the Northern Hemisphere: \\n\")\n",
    "month_integer = [1, 2, 3, 4, 5, 6, 7, 8, 9, 10, 11, 12]\n",
    "for month in month_integer:\n",
    "    if month < 3: \n",
    "        print(\"Month {} is in Winter\".format(month))\n",
    "    elif month < 6:\n",
    "        print(\"Month {} is in Spring\".format(month))\n",
    "    elif month < 9:\n",
    "        print(\"Month {} is in Summer\".format(month))\n",
    "    elif month < 12:\n",
    "        print(\"Month {} is in Fall\".format(month))\n",
    "    else: \n",
    "        print(\"Month {} is in Winter\".format(month))"
   ]
  },
  {
   "cell_type": "code",
   "execution_count": 23,
   "id": "4b84d3d9-dafa-4199-947a-b9e4e2bec000",
   "metadata": {},
   "outputs": [
    {
     "name": "stdout",
     "output_type": "stream",
     "text": [
      "[3, 5, 7, 9]\n"
     ]
    }
   ],
   "source": [
    "# list comprehension\n",
    "even_list = [2, 4, 6, 8]\n",
    "odd_list = [even+1 for even in even_list]\n",
    "print(odd_list)\n"
   ]
  },
  {
   "cell_type": "markdown",
   "id": "1fb1fbd7-3151-414b-98eb-e05ccb5eded1",
   "metadata": {},
   "source": [
    "# Numpy"
   ]
  },
  {
   "cell_type": "code",
   "execution_count": 25,
   "id": "4ba03f60-d496-4c2d-a821-be91bce79f4e",
   "metadata": {},
   "outputs": [
    {
     "name": "stdout",
     "output_type": "stream",
     "text": [
      "Matrix A: \n",
      "\n",
      "[[1 3 5]\n",
      " [2 4 6]]\n",
      "\n",
      "Matrix B: \n",
      "\n",
      "[[1 2 3]\n",
      " [4 5 6]]\n"
     ]
    }
   ],
   "source": [
    "import numpy as np \n",
    "\n",
    "x = np.array([2, 4, 6]) # create a rank 1 array\n",
    "A = np.array([[1, 3, 5], [2, 4, 6]]) # create a rank 2 array\n",
    "B = np.array([[1, 2, 3], [4, 5, 6]])\n",
    "\n",
    "print(\"Matrix A: \\n\")\n",
    "print(A)\n",
    "\n",
    "print(\"\\nMatrix B: \\n\")\n",
    "print(B)"
   ]
  },
  {
   "cell_type": "code",
   "execution_count": 26,
   "id": "4bab97f9-13b8-4b1d-a535-70be7a0afc16",
   "metadata": {},
   "outputs": [
    {
     "name": "stdout",
     "output_type": "stream",
     "text": [
      "[1 3 5]\n",
      "6\n",
      "[3 4]\n"
     ]
    }
   ],
   "source": [
    "# Indexing/Slicing examples\n",
    "print(A[0, :]) # index the first \"row\" and all columns\n",
    "print(A[1, 2]) # index the second row, third column entry\n",
    "print(A[:, 1]) # index entire second column"
   ]
  },
  {
   "cell_type": "code",
   "execution_count": 27,
   "id": "675760ce-64a8-4968-9e2e-0fb98f9b870f",
   "metadata": {},
   "outputs": [
    {
     "name": "stdout",
     "output_type": "stream",
     "text": [
      "\n",
      " Matrix E (the transpose of B): \n",
      "\n",
      "[[1 4]\n",
      " [2 5]\n",
      " [3 6]]\n",
      "\n",
      " Matrix F (result of matrix multiplication A x E): \n",
      "\n",
      "[[22 49]\n",
      " [28 64]]\n",
      "\n",
      " Matrix G (result of matrix-vector multiplication A*x): \n",
      "\n",
      "[44 56]\n"
     ]
    }
   ],
   "source": [
    "# Arithmetic Examples\n",
    "C = A * 2 # multiplies every elemnt of A by two\n",
    "D = A * B # elementwise multiplication rather than matrix multiplication\n",
    "E = np.transpose(B)\n",
    "F = np.matmul(A, E) # performs matrix multiplication -- could also use np.dot()\n",
    "G = np.matmul(A, x) # performs matrix-vector multiplication -- again could also use np.dot()\n",
    "\n",
    "print(\"\\n Matrix E (the transpose of B): \\n\")\n",
    "print(E)\n",
    "\n",
    "print(\"\\n Matrix F (result of matrix multiplication A x E): \\n\")\n",
    "print(F)\n",
    "\n",
    "print(\"\\n Matrix G (result of matrix-vector multiplication A*x): \\n\")\n",
    "print(G)"
   ]
  },
  {
   "cell_type": "code",
   "execution_count": 30,
   "id": "425a5757-eff7-4db8-a8e1-7b7592dea44a",
   "metadata": {},
   "outputs": [
    {
     "name": "stdout",
     "output_type": "stream",
     "text": [
      "[[ 2 12 30]\n",
      " [ 4 16 36]]\n",
      "[[ 3  7 11]\n",
      " [ 4  8 12]]\n"
     ]
    }
   ],
   "source": [
    "x\n",
    "# Broadcasting Examples\n",
    "H = A * x # \"broadcasts\" x for element-wise multiplication with the rows of A\n",
    "print(H)\n",
    "J = A + x # broadcasts for addition, across rows\n",
    "print(J)"
   ]
  },
  {
   "cell_type": "code",
   "execution_count": 32,
   "id": "38fffb44-3bae-4c9f-afd5-3eb9b3b8504e",
   "metadata": {},
   "outputs": [
    {
     "name": "stdout",
     "output_type": "stream",
     "text": [
      "Matrix X: \n",
      "\n",
      "[[ 3  9  4]\n",
      " [10  2  7]\n",
      " [ 5 11  8]]\n",
      "\n",
      " Maximum value in X:\n",
      "11\n",
      "\n",
      " Column-wise max of X:\n",
      "[10 11  8]\n",
      "\n",
      " Indices of column max:\n",
      "[1 2 2]\n",
      "\n",
      " Row-wise max of X: \n",
      "\n",
      "[ 9 10 11]\n"
     ]
    }
   ],
   "source": [
    "# max operation examples\n",
    "\n",
    "X = np.array([[3, 9, 4], [10, 2, 7], [5, 11, 8]])\n",
    "all_max = np.max(X) # gets the maximum value of matrix X\n",
    "column_max = np.max(X, axis=0) # gets the maximum in each column -- returns a rank-1 array [10, 11, 8]\n",
    "row_max = np.max(X, axis=1) # gets the maximum in each row -- returns a rank-1 array [9, 10, 11]\n",
    "\n",
    "# In addition to max, can similarly do min. Numpy also has argmax to return indices of maximal values\n",
    "column_argmax = np.argmax(X, axis=0) # note that the \"index\" here is actually the row the maximum occurs for each column\n",
    "\n",
    "print(\"Matrix X: \\n\")\n",
    "print(X)\n",
    "print(\"\\n Maximum value in X:\")\n",
    "print(all_max)\n",
    "print(\"\\n Column-wise max of X:\")\n",
    "print(column_max)\n",
    "print(\"\\n Indices of column max:\")\n",
    "print(column_argmax)\n",
    "print(\"\\n Row-wise max of X: \\n\")\n",
    "print(row_max)\n"
   ]
  },
  {
   "cell_type": "code",
   "execution_count": 34,
   "id": "c1b89ef7-1e64-4b18-99e5-96dfe47738ad",
   "metadata": {},
   "outputs": [
    {
     "name": "stdout",
     "output_type": "stream",
     "text": [
      "Matrix X: \n",
      "[[ 3  9  4]\n",
      " [10  2  7]\n",
      " [ 5 11  8]]\n",
      "\n",
      " Sum over all elements of X:\n",
      "59\n",
      "\n",
      " Column-wise sum of X:\n",
      "[18 22 19]\n",
      "\n",
      " Row-wise sum of X:\n",
      "[16 19 24]\n"
     ]
    }
   ],
   "source": [
    "# Sum operation examples\n",
    "# These work similarly to the max operations -- use the axis argument to denote if summing over rows or columns\n",
    "\n",
    "\n",
    "total_sum = np.sum(X)\n",
    "column_sum = np.sum(X, axis=0)\n",
    "row_sum = np.sum(X, axis=1)\n",
    "\n",
    "print(\"Matrix X: \")\n",
    "print(X)\n",
    "print(\"\\n Sum over all elements of X:\")\n",
    "print(total_sum)\n",
    "print(\"\\n Column-wise sum of X:\")\n",
    "print(column_sum)\n",
    "print(\"\\n Row-wise sum of X:\")\n",
    "print(row_sum)"
   ]
  },
  {
   "cell_type": "code",
   "execution_count": 35,
   "id": "211d1577-6698-4f8d-b0c5-f5841c23e4b2",
   "metadata": {},
   "outputs": [
    {
     "name": "stdout",
     "output_type": "stream",
     "text": [
      "Rank-1 array X:\n",
      "[ 0  1  2  3  4  5  6  7  8  9 10 11 12 13 14 15]\n",
      "\n",
      " Reshaped into a square matrix:\n",
      "[[ 0  1  2  3]\n",
      " [ 4  5  6  7]\n",
      " [ 8  9 10 11]\n",
      " [12 13 14 15]]\n",
      "\n",
      " Reshaped into a rank-3 array with dimensions 2 x 2 x 4:\n",
      "[[[ 0  1  2  3]\n",
      "  [ 4  5  6  7]]\n",
      "\n",
      " [[ 8  9 10 11]\n",
      "  [12 13 14 15]]]\n"
     ]
    }
   ],
   "source": [
    "# Matrix reshaping\n",
    "\n",
    "X = np.arange(16) # makes a rank-1 array of integers from 0 to 15\n",
    "X_square = np.reshape(X, (4, 4)) # reshape X into a 4 x 4 matrix\n",
    "X_rank_3 = np.reshape(X, (2, 2, 4)) # reshape X to be 2 x 2 x 4 --a rank-3 array\n",
    "                                    # consider as two rank-2 arrays with 2 rows and 4 columns\n",
    "print(\"Rank-1 array X:\")\n",
    "print(X)\n",
    "print(\"\\n Reshaped into a square matrix:\")\n",
    "print(X_square)\n",
    "print(\"\\n Reshaped into a rank-3 array with dimensions 2 x 2 x 4:\")\n",
    "print(X_rank_3)"
   ]
  },
  {
   "cell_type": "code",
   "execution_count": 37,
   "id": "61242ec9-f4c8-4023-adb6-10f4878e833a",
   "metadata": {},
   "outputs": [
    {
     "data": {
      "image/png": "[encoded data removed]",
      "text/plain": [
       "<Figure size 640x480 with 1 Axes>"
      ]
     },
     "metadata": {},
     "output_type": "display_data"
    }
   ],
   "source": [
    "import numpy as np\n",
    "import matplotlib.pyplot as plt\n",
    "\n",
    "# We'll start with a parabola\n",
    "# Compute the parabola's x and y coordinates\n",
    "x = np.arange(-5, 5, 0.1)\n",
    "y = np.square(x)\n",
    "\n",
    "# Use matplotlib for the plot\n",
    "plt.plot(x, y, 'b') # specify the color blue for the line\n",
    "plt.xlabel('X-Axis Values')\n",
    "plt.ylabel('Y-Axis Values')\n",
    "plt.title('First Plot: A Parabola')\n",
    "plt.show() # required to actually display the plot"
   ]
  },
  {
   "cell_type": "code",
   "execution_count": 38,
   "id": "4ad66f90-7c5d-449e-877c-b57feb8359a9",
   "metadata": {},
   "outputs": [
    {
     "data": {
      "image/png": "[encoded data removed]",
      "text/plain": [
       "<Figure size 640x480 with 1 Axes>"
      ]
     },
     "metadata": {},
     "output_type": "display_data"
    }
   ],
   "source": [
    "import numpy as np\n",
    "import matplotlib.pyplot as plt\n",
    "\n",
    "X = np.identity(10)\n",
    "identity_matrix_image = plt.imshow(X, cmap=\"Greys_r\")\n",
    "plt.show()"
   ]
  },
  {
   "cell_type": "code",
   "execution_count": 40,
   "id": "54b38db5-3f0a-4d79-8869-7218ba87db7a",
   "metadata": {},
   "outputs": [
    {
     "data": {
      "image/png": "[encoded data removed]",
      "text/plain": [
       "<Figure size 640x480 with 1 Axes>"
      ]
     },
     "metadata": {},
     "output_type": "display_data"
    }
   ],
   "source": [
    "# Now plot a random matrix, with a different colormap\n",
    "A = np.random.randn(10, 10)\n",
    "random_matrix_image = plt.imshow(A)\n",
    "plt.show()"
   ]
  },
  {
   "cell_type": "code",
   "execution_count": null,
   "id": "21110ab5-6991-4b07-a691-3cb46f390467",
   "metadata": {},
   "outputs": [],
   "source": []
  }
 ],
 "metadata": {
  "kernelspec": {
   "display_name": "Python 3 (ipykernel)",
   "language": "python",
   "name": "python3"
  },
  "language_info": {
   "codemirror_mode": {
    "name": "ipython",
    "version": 3
   },
   "file_extension": ".py",
   "mimetype": "text/x-python",
   "name": "python",
   "nbconvert_exporter": "python",
   "pygments_lexer": "ipython3",
   "version": "3.13.3"
  }
 },
 "nbformat": 4,
 "nbformat_minor": 5
}
